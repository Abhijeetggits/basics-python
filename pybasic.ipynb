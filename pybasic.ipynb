{
 "cells": [
  {
   "cell_type": "markdown",
   "metadata": {
    "id": "ep6Xq1v-slz9"
   },
   "source": [
    "# python basics"
   ]
  },
  {
   "cell_type": "markdown",
   "metadata": {
    "id": "TTG7CokDu9PF"
   },
   "source": [
    "1. What is Python, and why is it popular?\n",
    "\n",
    "Python is a versatile, high-level programming language known for\n",
    "its readability and simplicity, making popular for a wide range of applications.\n",
    "\n",
    ". Its popularity stems from its ease of learning, extensive libraries, and adaptability to various fields like web development, data science, and machine learning."
   ]
  },
  {
   "cell_type": "markdown",
   "metadata": {
    "id": "JPq4SqBPuUUO"
   },
   "source": [
    "2. What is an interpreter in Python ?\n",
    "\n",
    ". Python, an interpreter is a program that reads and execute Python code line by line.\n",
    "\n",
    ". It translates the high-level code into machine-readable bytecode, and then executes the bytecode.\n",
    "\n",
    ". Unlike compilers that translate the entire code into machine code before execution, an interpreter processes and executes code directly as it's read."
   ]
  },
  {
   "cell_type": "markdown",
   "metadata": {
    "id": "plSUm3VwylRi"
   },
   "source": [
    "3. What are pre-defined keywords in Python ?\n",
    "\n",
    ". Keywords are reserved words in Python that have predefined meaning and cannot be used as identifiers (variable names, function names, etc.).\n",
    "\n",
    ". They are essential for defining the structure and logic of Python code. Here's a list of commonly used keywords: True, False, None,def,import,try,etc."
   ]
  },
  {
   "cell_type": "markdown",
   "metadata": {
    "id": "xuxBAH_qy94G"
   },
   "source": [
    "4. Can keywords can be used as variables name?\n",
    "\n",
    ". No,As keywords in python are reserved words that have predefined meaning and cannot be used as identifiers(variable names,function names,etc). -Using a keyword as a variable name would lead to syntax error and because the interpreter would misinterpret it."
   ]
  },
  {
   "cell_type": "markdown",
   "metadata": {
    "id": "OT3UQikBzMF6"
   },
   "source": [
    "5. What is mutability in python?\n",
    "\n",
    ". Mutablity in python refers to an ability of an object to be modified after it is created.\n",
    ". If an object is mutable, its state or value can be changed without creating a new object.\n",
    ". Mutable objects in python includes List,Dictionaries and Sets."
   ]
  },
  {
   "cell_type": "markdown",
   "metadata": {
    "id": "MdJ_DCklzmTg"
   },
   "source": [
    "6.Why are lists mutable but tuples immutable?\n",
    "\n",
    ". In Python, lists are mutable, which means their contents can be changed after they are created. We can add, remove, or modify elements in a list. This is because lists are designed for situations where the data might need to be updated frequently.\n"
   ]
  },
  {
   "cell_type": "code",
   "execution_count": null,
   "metadata": {},
   "outputs": [],
   "source": [
    "# Example\n",
    "my_list = [1, 2, 3]\n",
    "my_list[0] = 10\n",
    "my_list.append(4)     \n",
    "\n",
    "# On the other hand, tuples are immutable, meaning once a tuple is created, its contents cannot be changed. We cannot add, remove, or modify elements in a tuple. This immutability makes tuples useful for storing fixed data that should not be altered, such as constants or values used as dictionary keys.\n",
    "\n",
    "# Example\n",
    "my_tuple = (1, 2, 3)\n",
    "my_tuple[0] = 10     # This will raise an error\n"
   ]
  },
  {
   "cell_type": "markdown",
   "metadata": {
    "id": "FKg7ero24Q_v"
   },
   "source": [
    "7.What is the difference between “==” and “is” operators in Python?\n",
    "\n",
    ".In Python, the == operator is used to compare the values of two variables. It checks whether the values stored in the variables are the same. If the values are equal, it returns True, otherwise it returns False.\n",
    "\n",
    ".On the other hand, the is operator is used to compare the identities of two objects. It checks whether both variables point to the same object in memory. If they refer to the same object, it returns True; otherwise, it returns False.\n",
    "\n",
    "Example\n",
    "a = [1, 2, 3] b = [1, 2, 3] c = a\n",
    "\n",
    "print(a == b) # True, because values are equal print(a is b) # False, because they are different objects print(a is c) # True, because both refer to the same object"
   ]
  },
  {
   "cell_type": "markdown",
   "metadata": {
    "id": "KxERJ71W4q28"
   },
   "source": [
    "8. What are logical operators in Python ?\n",
    "\n",
    ". Logical Operators are also known as Boolean operators.The result of these operators is in form of 'true' or 'false.\n",
    "\n",
    ". Initially,the variable must be assigned with a value,either 'True' or 'False'.The logical operation is performed on variables to generate the output in form of 'True' or 'False'.\n",
    "\n",
    ". There are 3 logical operators in Python:\n",
    "\n",
    "and - returns True if both operands are true.\n",
    "or - returns True if either one of operand is true.\n",
    "not - returns True if operands is false.\n",
    "\n",
    "# Example\n",
    "a = True\n",
    "b = False\n",
    "print (a and b)\n",
    "print (a or b)\n",
    "print (not a)\n",
    "\n",
    "o/p\n",
    "False\n",
    "True\n",
    "False\n",
    "\n"
   ]
  },
  {
   "cell_type": "markdown",
   "metadata": {
    "id": "hCYhAM1B5P31"
   },
   "source": [
    "9.What is type casting in Python?\n",
    "\n",
    ". Type casting in Python means converting one data type into another. It is used when we want to change the type of a variable from one form (like integer, float, or string) to another.\n",
    "\n",
    ". Python provides built-in functions to perform type casting, such as:\n",
    "\n",
    "    * int() – to convert to an integer\n",
    "\n",
    "    * float() – to convert to a float\n",
    "\n",
    "    * str() – to convert to a string\n",
    "\n",
    "# Example\n",
    "x = \"5\"\n",
    "y = int(x)  # Converts string to integer\n",
    "\n"
   ]
  },
  {
   "cell_type": "markdown",
   "metadata": {
    "id": "8FFg2YXsKur5"
   },
   "source": [
    "10. What is the difference between implicit and explicit type casting?\n",
    "\n",
    ". Automatic conversion done by the compiler.\n",
    "\n",
    ". Happens when you assign a value of one data type to another compatible type.\n",
    "\n",
    " . No data loss in most cases (but not always).\n",
    "\n",
    "   int x = 10;\n",
    "   float y = x; // int is implicitly converted to float\n",
    "\n",
    "  float a = 5.7;\n",
    "  int b = (int)a;  // float is explicitly cast to int\n",
    "\n"
   ]
  },
  {
   "cell_type": "markdown",
   "metadata": {
    "id": "QIeiVuo26X5S"
   },
   "source": [
    "11. What is the purpose of conditional statements in Python ?\n",
    "\n",
    ". The purpose of conditional statements in Python is to allow the program to make decisions based on certain conditions. These statements help in executing different blocks of code depending on whether a condition is true or false.\n",
    "\n",
    ". Conditional statements are useful when we want to perform different actions in different situations. They control the flow of the program and help it respond dynamically to different inputs or values.\n",
    "\n",
    ". Python provides the following conditional statements:\n",
    "  \n",
    "  * if – to check a condition and execute a block if it is true.\n",
    "\n",
    "  * if...else – to choose between two blocks depending on whether a condition is true or false.\n",
    "\n",
    "  * if...elif...else – to check multiple conditions in sequence.\n"
   ]
  },
  {
   "cell_type": "code",
   "execution_count": null,
   "metadata": {},
   "outputs": [],
   "source": [
    " # Example\n",
    " age=18\n",
    " if age>=18:\n",
    "    print(\"you are eligible to vote.\")\n",
    " else:\n",
    "    print(\"You are not eligible to vote.\")\n",
    "  "
   ]
  },
  {
   "cell_type": "markdown",
   "metadata": {
    "id": "k_9Fvs7EMc00"
   },
   "source": [
    "12. How does the elif statement work?\n",
    "\n",
    ". In python, the 'elif' statement is used when there is a possibility of multiple conditions to be 'True'.When any of the conditions is 'True', its block of a code is executed.Unlike the 'else' statement,there can be any number of 'elif' statements followed by a single 'if'\n",
    ". The compiler first evaluates the 'if' condition.If it is false,then it evaluates the conditions of the 'elif' statements in order. When the 'if' and ' elif' conditions do not meet,then the 'else' block is executed.\n",
    "    \n",
    "   "
   ]
  },
  {
   "cell_type": "code",
   "execution_count": null,
   "metadata": {
    "id": "U8WlUItYNG-_"
   },
   "outputs": [],
   "source": [
    "## Example\n",
    "marks = 75\n",
    "if marks >= 90:\n",
    "    print(\"Grade A\")\n",
    "elif marks >= 75:\n",
    "    print(\"Grade B\")\n",
    "elif marks >= 60:\n",
    "    print(\"Grade C\")\n",
    "else:\n",
    "    print(\"Grade D\") '''\n"
   ]
  },
  {
   "cell_type": "markdown",
   "metadata": {
    "id": "UtAVeD31NKcK"
   },
   "source": [
    "13. What is the difference between for and while loops?\n",
    "\n",
    ". In Python, both for and while loops are used to repeat a block of code, but they are used in different situations and work differently.\n",
    "  \n",
    "  1. For loop:\n",
    "The for loop is used when we know in advance how many times we want to repeat a block of code. It is commonly used to iterate over a sequence like a list, tuple, string, or range.\n",
    "\n",
    " # Example\n",
    "for i in range(5):\n",
    "    print(i)\n",
    "O/P\n",
    " 0\n",
    " 1\n",
    " 2\n",
    " 3\n",
    " 4\n",
    "   \n",
    "2. while loop:\n",
    "The while loop is used when we do not know exactly how many times we need to repeat the code. It continues to run as long as a given condition is true.\n",
    "\n",
    "\n",
    " Key Differences:\n",
    "\n",
    "For Loop:\n",
    "\n",
    "1.Used when the number of iterations is known.\n",
    "2.Iterates over a sequence (like list, tuple, string, range).\n",
    "3.Mostly used for definite loops.\n",
    "\n",
    "\n",
    "While loop:\n",
    "\n",
    "1.Used when the number of iterations is 2.not known in advance.\n",
    "3.Runs based on a condition being true.\n",
    "Mostly used for indefinite loops."
   ]
  },
  {
   "cell_type": "code",
   "execution_count": null,
   "metadata": {},
   "outputs": [],
   "source": [
    "# Example\n",
    "i = 0\n",
    "while i < 5:\n",
    "    print(i)\n",
    "    i += 1\n",
    "\n",
    "O/P\n",
    " 0\n",
    " 1\n",
    " 2\n",
    " 3\n",
    " 4\n"
   ]
  },
  {
   "cell_type": "markdown",
   "metadata": {
    "id": "L0GjLF2IOVQH"
   },
   "source": [
    "14. Describe a scenario where a while loop is more suitable than a for loop.\n",
    "\n",
    ". A while loop is more suitable than a for loop in situations where the number of iterations is not known in advance and the loop needs to continue running until a specific condition is met.\n",
    "\n",
    ". Example Scenario:\n",
    "\n",
    "  Imagine you're writing a program to simulate a user login system where the user is given a limited number of attempts to enter the correct password. In this case, we don't know how many times the user will need to try entering the correct password, but we want the loop to continue until either the user provides the correct password or they run out of attempts.\n",
    "\n",
    "\n",
    ". The loop continues running until the user enters the correct password or exceeds the maximum number of attempts.\n",
    "\n",
    ". The number of iterations is not predetermined because the user may enter the correct password on the first try or after several attempts.\n",
    "\n",
    ". The condition (attempts < max_attempts) is checked at the start of each loop iteration, making it a perfect use case for a while loop.\n",
    "\n",
    ". Therefore, a while loop is better when you need to repeat an action indefinitely until a specific condition changes, as in the case of user input validation or waiting for a correct condition to be met.\n"
   ]
  },
  {
   "cell_type": "code",
   "execution_count": 2,
   "metadata": {},
   "outputs": [
    {
     "name": "stdin",
     "output_type": "stream",
     "text": [
      "Enter password:  12\n"
     ]
    },
    {
     "name": "stdout",
     "output_type": "stream",
     "text": [
      "Incorrect password. You have 2 attempts left.\n"
     ]
    },
    {
     "name": "stdin",
     "output_type": "stream",
     "text": [
      "Enter password:  12\n"
     ]
    },
    {
     "name": "stdout",
     "output_type": "stream",
     "text": [
      "Incorrect password. You have 1 attempts left.\n"
     ]
    },
    {
     "name": "stdin",
     "output_type": "stream",
     "text": [
      "Enter password:  23\n"
     ]
    },
    {
     "name": "stdout",
     "output_type": "stream",
     "text": [
      "Incorrect password. You have 0 attempts left.\n",
      "You have reached the maximum number of attempts.\n"
     ]
    }
   ],
   "source": [
    "#Code\n",
    "attempts = 0\n",
    "max_attempts = 3\n",
    "correct_password = \"secret123\"\n",
    "user_input = \"\"\n",
    "\n",
    "while attempts < max_attempts:\n",
    "    user_input = input(\"Enter password: \")\n",
    "    if user_input == correct_password:\n",
    "        print(\"Login successful!\")\n",
    "        break\n",
    "    else:\n",
    "        attempts += 1\n",
    "        print(f\"Incorrect password. You have {max_attempts - attempts} attempts left.\")\n",
    "\n",
    "if attempts == max_attempts:\n",
    "    print(\"You have reached the maximum number of attempts.\")"
   ]
  },
  {
   "cell_type": "markdown",
   "metadata": {
    "id": "aaXjslHrPXdR"
   },
   "source": [
    "#Practical Questions"
   ]
  },
  {
   "cell_type": "code",
   "execution_count": 3,
   "metadata": {
    "colab": {
     "base_uri": "https://localhost:8080/"
    },
    "id": "1xKCaIUPP0-t",
    "outputId": "732d903c-ff7c-4b8b-fd34-ec3ff06b3868"
   },
   "outputs": [
    {
     "name": "stdout",
     "output_type": "stream",
     "text": [
      "Hello , World!\n"
     ]
    }
   ],
   "source": [
    "#1.  Write a Python program to print \"Hello, World!\n",
    "print(\"Hello , World!\")\n",
    "\n",
    "\n"
   ]
  },
  {
   "cell_type": "code",
   "execution_count": 4,
   "metadata": {
    "colab": {
     "base_uri": "https://localhost:8080/"
    },
    "id": "KDf1C96vQpy5",
    "outputId": "77705f77-148a-4805-b5ec-ac4f021f7dbe"
   },
   "outputs": [
    {
     "name": "stdout",
     "output_type": "stream",
     "text": [
      "The name is: Gaurav\n",
      "The age is: 20\n"
     ]
    }
   ],
   "source": [
    "#2. Write a Python program that displays your name and age\n",
    "name= \"Gaurav\"\n",
    "age=20\n",
    "print(\"The name is:\",name);\n",
    "print(\"The age is:\",age);"
   ]
  },
  {
   "cell_type": "code",
   "execution_count": 5,
   "metadata": {
    "colab": {
     "base_uri": "https://localhost:8080/"
    },
    "id": "CCYgxTQiQ0CQ",
    "outputId": "747c4f91-53e2-4090-d026-361409d3d490"
   },
   "outputs": [
    {
     "name": "stdout",
     "output_type": "stream",
     "text": [
      " Python Keywords are: ['False', 'None', 'True', 'and', 'as', 'assert', 'async', 'await', 'break', 'class', 'continue', 'def', 'del', 'elif', 'else', 'except', 'finally', 'for', 'from', 'global', 'if', 'import', 'in', 'is', 'lambda', 'nonlocal', 'not', 'or', 'pass', 'raise', 'return', 'try', 'while', 'with', 'yield']\n"
     ]
    }
   ],
   "source": [
    "#3. Write code to print all the pre-defined keywords in Python using the keyword library\n",
    "import keyword\n",
    "print(\" Python Keywords are:\",keyword.kwlist)"
   ]
  },
  {
   "cell_type": "code",
   "execution_count": 6,
   "metadata": {
    "id": "OmrNnzWFQ6Ke"
   },
   "outputs": [
    {
     "name": "stdin",
     "output_type": "stream",
     "text": [
      "Enter a word:  12\n"
     ]
    },
    {
     "name": "stdout",
     "output_type": "stream",
     "text": [
      "'12' is not a Python keyword.\n"
     ]
    }
   ],
   "source": [
    "#4. Write a program that checks if a given word is a Python keyword.\n",
    "import keyword\n",
    "word = input(\"Enter a word: \")\n",
    "if keyword.iskeyword(word):\n",
    "    print(f\"'{word}' is a Python keyword.\")\n",
    "else:\n",
    "    print(f\"'{word}' is not a Python keyword.\")"
   ]
  },
  {
   "cell_type": "code",
   "execution_count": 7,
   "metadata": {
    "id": "DILCeLgrRFtw"
   },
   "outputs": [
    {
     "name": "stdout",
     "output_type": "stream",
     "text": [
      "Original list: [10, 20, 30]\n",
      "Modified list: [10, 99, 30]\n",
      "Original tuple: (10, 20, 30)\n"
     ]
    }
   ],
   "source": [
    "#5.  Create a list and tuple in Python, and demonstrate how attempting to change an element works differently for each.\n",
    "\n",
    "my_list = [10, 20, 30]  # Creating a list\n",
    "print(\"Original list:\", my_list)\n",
    "\n",
    "\n",
    "my_list[1] = 99        # Modifying an element in the list\n",
    "print(\"Modified list:\", my_list)\n",
    "\n",
    "\n",
    "my_tuple = (10, 20, 30) # Creating a tuple\n",
    "print(\"Original tuple:\", my_tuple)\n"
   ]
  },
  {
   "cell_type": "code",
   "execution_count": 8,
   "metadata": {
    "id": "EgaZ0eJVSpKj"
   },
   "outputs": [
    {
     "name": "stdout",
     "output_type": "stream",
     "text": [
      "Inside function - a: 15\n",
      "Inside function - b: [1, 2, 3, 4]\n",
      "Outside function - x: 5\n",
      "Outside function - y: [1, 2, 3, 4]\n"
     ]
    }
   ],
   "source": [
    "#6. Write a function to demonstrate the behavior of mutable and immutable arguments.\n",
    "\n",
    "def modify_arguments(a, b):\n",
    "    a += 10\n",
    "    b.append(4)\n",
    "    print(\"Inside function - a:\", a)\n",
    "    print(\"Inside function - b:\", b)\n",
    "\n",
    "x = 5\n",
    "y = [1, 2, 3]\n",
    "\n",
    "modify_arguments(x, y)\n",
    "\n",
    "print(\"Outside function - x:\", x)\n",
    "print(\"Outside function - y:\", y)\n"
   ]
  },
  {
   "cell_type": "code",
   "execution_count": null,
   "metadata": {
    "id": "2RoO-F3GTHls"
   },
   "outputs": [],
   "source": [
    "#7. Write a program that performs basic arithmetic operations on two user-input numbers\n",
    "num1 = float(input(\"Enter first number: \"))\n",
    "num2 = float(input(\"Enter second number: \"))\n",
    "\n",
    "addition = num1 + num2\n",
    "subtraction = num1 - num2\n",
    "multiplication = num1 * num2\n",
    "\n",
    "if num2 != 0:\n",
    "    division = num1 / num2\n",
    "else:\n",
    "    division = \"Undefined (division by zero)\"\n",
    "\n",
    "print(\"Addition:\", addition)\n",
    "print(\"Subtraction:\", subtraction)\n",
    "print(\"Multiplication:\", multiplication)\n",
    "print(\"Division:\", division)\n"
   ]
  },
  {
   "cell_type": "code",
   "execution_count": 9,
   "metadata": {
    "id": "vOdSHMZ0Tjm4"
   },
   "outputs": [
    {
     "name": "stdout",
     "output_type": "stream",
     "text": [
      "a and b: False\n",
      "a or b: True\n",
      "not a: False\n",
      "not b: True\n"
     ]
    }
   ],
   "source": [
    "#8. Write a program to demonstrate the use of logical operators.\n",
    "a = True\n",
    "b = False\n",
    "\n",
    "print(\"a and b:\", a and b)\n",
    "print(\"a or b:\", a or b)\n",
    "print(\"not a:\", not a)\n",
    "print(\"not b:\", not b)\n",
    "\n"
   ]
  },
  {
   "cell_type": "code",
   "execution_count": 10,
   "metadata": {
    "id": "q9eDpoeST6HZ"
   },
   "outputs": [
    {
     "name": "stdin",
     "output_type": "stream",
     "text": [
      "Enter a number 12\n"
     ]
    },
    {
     "name": "stdout",
     "output_type": "stream",
     "text": [
      "As Integer: 12\n",
      "As Float: 12.0\n",
      "As Boolean: True\n"
     ]
    }
   ],
   "source": [
    "#9. Write a Python program to convert user input from string to integer, float, and boolean types\n",
    "value = input(\"Enter a number\")\n",
    "\n",
    "\n",
    "int_value = int(value)            # Convert to integer\n",
    "print(\"As Integer:\", int_value)\n",
    "\n",
    "\n",
    "float_value = float(value)      # convert to float\n",
    "print(\"As Float:\", float_value)\n",
    "\n",
    "\n",
    "bool_value = bool(value)    # Convert to boolean\n",
    "print(\"As Boolean:\", bool_value)\n"
   ]
  },
  {
   "cell_type": "code",
   "execution_count": 11,
   "metadata": {
    "id": "4DsO-KpTU3dF"
   },
   "outputs": [
    {
     "name": "stdout",
     "output_type": "stream",
     "text": [
      "Original list: ['1', '2', '3', '4.5', 'True']\n",
      "Converted to integers: [1, 2, 3, 0, 0]\n",
      "Converted to floats: [1.0, 2.0, 3.0, 4.5, 0.0]\n",
      "Converted to booleans: [True, True, True, True, True]\n"
     ]
    }
   ],
   "source": [
    "#10. Write code to demonstrate type casting with list elements.\n",
    "mixed_list = ['1', '2', '3', '4.5', 'True']\n",
    "\n",
    "int_list = [int(i) if i.isdigit() else 0 for i in mixed_list]\n",
    "\n",
    "float_list = [float(i) if i.replace('.', '', 1).isdigit() else 0.0 for i in mixed_list]\n",
    "\n",
    "bool_list = [bool(i) for i in mixed_list]\n",
    "\n",
    "print(\"Original list:\", mixed_list)\n",
    "print(\"Converted to integers:\", int_list)\n",
    "print(\"Converted to floats:\", float_list)\n",
    "print(\"Converted to booleans:\", bool_list)\n"
   ]
  },
  {
   "cell_type": "code",
   "execution_count": 12,
   "metadata": {
    "id": "v2ngcfVNVMsB"
   },
   "outputs": [
    {
     "name": "stdin",
     "output_type": "stream",
     "text": [
      "Enter a number:  12\n"
     ]
    },
    {
     "name": "stdout",
     "output_type": "stream",
     "text": [
      "The number is positive.\n"
     ]
    }
   ],
   "source": [
    "#11. Write a program that checks if a number is positive, negative, or zero.\n",
    "num = float(input(\"Enter a number: \"))\n",
    "\n",
    "if num > 0:\n",
    "    print(\"The number is positive.\")\n",
    "elif num < 0:\n",
    "    print(\"The number is negative.\")\n",
    "else:\n",
    "    print(\"The number is zero.\")\n"
   ]
  },
  {
   "cell_type": "code",
   "execution_count": 13,
   "metadata": {
    "id": "ONVtYL72Vb6p"
   },
   "outputs": [
    {
     "name": "stdout",
     "output_type": "stream",
     "text": [
      "1\n",
      "2\n",
      "3\n",
      "4\n",
      "5\n",
      "6\n",
      "7\n",
      "8\n",
      "9\n",
      "10\n"
     ]
    }
   ],
   "source": [
    "#12. Write a for loop to print numbers from 1 to 10.\n",
    "for i in range(1, 11):\n",
    "    print(i)\n"
   ]
  },
  {
   "cell_type": "code",
   "execution_count": 14,
   "metadata": {
    "id": "F86Y7LKpVnRg"
   },
   "outputs": [
    {
     "name": "stdout",
     "output_type": "stream",
     "text": [
      "Sum of all even numbers between 1 and 50: 650\n"
     ]
    }
   ],
   "source": [
    "#13. Write a Python program to find the sum of all even numbers between 1 and 50\n",
    "sum_even = 0\n",
    "\n",
    "for i in range(2, 51, 2):\n",
    "    sum_even += i\n",
    "\n",
    "print(\"Sum of all even numbers between 1 and 50:\", sum_even)\n"
   ]
  },
  {
   "cell_type": "code",
   "execution_count": 15,
   "metadata": {
    "id": "z0O4CyOXVyIN"
   },
   "outputs": [
    {
     "name": "stdin",
     "output_type": "stream",
     "text": [
      "Enter a string:  'raju'\n"
     ]
    },
    {
     "name": "stdout",
     "output_type": "stream",
     "text": [
      "Reversed string: 'ujar'\n"
     ]
    }
   ],
   "source": [
    "#14. Write a program to reverse a string using a while loop.\n",
    "string = input(\"Enter a string: \")\n",
    "reversed_string = \"\"\n",
    "i = len(string) - 1\n",
    "\n",
    "while i >= 0:\n",
    "    reversed_string += string[i]\n",
    "    i -= 1\n",
    "\n",
    "print(\"Reversed string:\", reversed_string)\n"
   ]
  },
  {
   "cell_type": "code",
   "execution_count": 16,
   "metadata": {
    "id": "Iwu5sQWfWJbA"
   },
   "outputs": [
    {
     "name": "stdin",
     "output_type": "stream",
     "text": [
      "Enter a number:  5\n"
     ]
    },
    {
     "name": "stdout",
     "output_type": "stream",
     "text": [
      "Factorial is: 120\n"
     ]
    }
   ],
   "source": [
    "#15. Write a Python program to calculate the factorial of a number provided by the user using a while loop.\n",
    "num = int(input(\"Enter a number: \"))\n",
    "factorial = 1\n",
    "\n",
    "while num > 0:\n",
    "    factorial *= num\n",
    "    num -= 1\n",
    "\n",
    "print(\"Factorial is:\", factorial)\n"
   ]
  }
 ],
 "metadata": {
  "colab": {
   "provenance": []
  },
  "kernelspec": {
   "display_name": "Python 3 (ipykernel)",
   "language": "python",
   "name": "python3"
  },
  "language_info": {
   "codemirror_mode": {
    "name": "ipython",
    "version": 3
   },
   "file_extension": ".py",
   "mimetype": "text/x-python",
   "name": "python",
   "nbconvert_exporter": "python",
   "pygments_lexer": "ipython3",
   "version": "3.12.6"
  }
 },
 "nbformat": 4,
 "nbformat_minor": 4
}
