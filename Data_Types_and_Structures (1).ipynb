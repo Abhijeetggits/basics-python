{
  "nbformat": 4,
  "nbformat_minor": 0,
  "metadata": {
    "colab": {
      "provenance": []
    },
    "kernelspec": {
      "name": "python3",
      "display_name": "Python 3"
    },
    "language_info": {
      "name": "python"
    }
  },
  "cells": [
    {
      "cell_type": "markdown",
      "source": [
        "# Data Types and Structures"
      ],
      "metadata": {
        "id": "SiS7IJGOxaa9"
      }
    },
    {
      "cell_type": "markdown",
      "source": [
        "1. What are data structures, and why are they important?\n",
        "\n",
        "      -> Data structures are ways to store and organize data in a computer so that it can be used efficiently.\n",
        "\n",
        "      They are important because they help in:\n",
        "      * Storing data in an organized way.\n",
        "\n",
        "      * Accessing and modifying data quickly.\n",
        "\n",
        "      * Solving problems efficiently using algorithms.\n",
        "\n",
        "\n",
        "\n",
        "\n",
        "\n",
        "\n",
        "2. Explain the difference between mutable and immutable data types with\n",
        "   examples.\n",
        "\n",
        "      -> In Python, data types are classified into two categories based\n",
        "       on whether their values can be changed after creation: mutable and immutable.\n",
        "\n",
        "      * Mutable Data Types:\n",
        "      Mutable data types are those whose values can be changed after they are created. Any modification to the object changes the original object itself.\n",
        "\n",
        "      Examples: list, dict, set\n",
        "      Example Code:\n",
        "      my_list = [1, 2, 3]\n",
        "      my_list[0] = 10\n",
        "      print(my_list)  # Output: [10, 2, 3]\n",
        "      Immutable Data Types:\n",
        "      Immutable data types are those whose values cannot be changed after they are created. If any change is attempted, a new object is created instead of modifying the original one.\n",
        "\n",
        "      Examples: int, float, str, tuple\n",
        "      Example Code:\n",
        "      my_string = \"hello\"\n",
        "      new_string = my_string.replace(\"h\", \"y\")\n",
        "      print(new_string)  # Output: \"yello\"\n",
        "\n",
        "\n",
        "\n",
        "\n",
        "\n",
        "\n",
        "3. What are the main differences between lists and tuples in Python?\n",
        "\n",
        "    -> Mutability:\n",
        "     Lists are mutable, meaning their elements can be changed. Tuples are immutable, meaning their elements cannot be changed once defined.\n",
        "\n",
        "     Syntax:\n",
        "     Lists are written using square brackets [ ], while tuples are written using parentheses ( ).\n",
        "\n",
        "    Methods\n",
        "    Lists have more built-in methods such as append(), remove(), etc. Tuples have fewer methods.\n",
        "\n",
        "    Performance:\n",
        "    Tuples are generally faster than lists in terms of execution.\n",
        "\n",
        "    Use Case:\n",
        "    Lists are used when the data may need to change. Tuples are used when the data should remain constant.\n",
        "\n",
        "    for a example-:\n",
        "    # List example\n",
        "    my_list = [1, 2, 3]\n",
        "    my_list[0] = 10  # Allowed\n",
        "\n",
        "    # Tuple example\n",
        "    my_tuple = (1, 2, 3)\n",
        "    # my_tuple[0] = 10  # Not allowed, will cause an error\n",
        "\n",
        "\n",
        "\n",
        "\n",
        "\n",
        "\n",
        " 4. Describe how dictionaries store data?\n",
        "\n",
        "    -> In Python, dictionaries store data in the form of key-value pairs. Each key is unique and is used to access its corresponding value.\n",
        "\n",
        "    Dictionaries use a hashing mechanism to store and retrieve data quickly. When a key is added to a dictionary, it is converted into a hash value, which determines where the value will be stored in memory.\n",
        "\n",
        "   \n",
        "\n",
        "\n",
        "\n",
        " 5. Why might you use a set instead of a list in Python?\n",
        "\n",
        "     -> You might use a set instead of a list in Python for the following reasons:\n",
        "\n",
        "     * Uniqueness:\n",
        "     A set automatically removes duplicate values. It stores only unique elements.\n",
        "\n",
        "     * Faster Lookup:\n",
        "     Sets provide faster search operations compared to lists because they use hashing.\n",
        "\n",
        "     * Set Operations:\n",
        "     Sets support mathematical operations like union, intersection, and difference which are not directly available with lists.\n",
        "\n",
        "\n",
        "\n",
        "\n",
        "\n",
        "\n",
        " 6. What is a string in Python, and how is it different from a list?\n",
        "\n",
        "     -> A string in Python is a sequence of characters enclosed in single\n",
        "      quotes ' ', double quotes \" \", or triple quotes ''' ''' or \"\"\" \"\"\".\n",
        "\n",
        "      Differences between a string and a list:\n",
        "\n",
        "      * Data Type:\n",
        "      A string contains characters, while a list can contain elements of any data type (e.g., numbers, strings, other lists).\n",
        "\n",
        "      * Mutability:\n",
        "      Strings are immutable (cannot be changed), while lists are mutable (can be changed).\n",
        "\n",
        "      * Syntax:\n",
        "      A string is written like \"hello\", whereas a list is written like ['h', 'e', 'l', 'l', 'o'].\n",
        "\n",
        "      * Methods:\n",
        "      Strings have text-specific methods like upper(), lower(), replace(). Lists have methods like append(), remove(), sort().\n",
        "\n",
        "\n",
        "\n",
        "\n",
        "\n",
        "\n",
        " 7. How do tuples ensure data integrity in Python?\n",
        "\n",
        "     -> Tuples ensure data integrity in Python by being immutable, which means their values cannot be changed after creation. This prevents accidental modification of data and keeps it safe throughout the program. Because of this, tuples are often used to store constant or fixed information. They can also be used as keys in dictionaries since they remain unchanged.\n",
        "\n",
        "\n",
        "\n",
        "\n",
        "\n",
        " 8. What is a hash table, and how does it relate to dictionaries in Python?\n",
        "\n",
        "\n",
        "    -> A hash table is a data structure that stores data in key-value pairs using a process called hashing. Hashing converts a key into an index which determines where the value is stored in memory. This allows fast data access based on keys.\n",
        "\n",
        "    In Python, dictionaries are implemented using hash tables. When you add a key-value pair to a dictionary, Python uses the hash of the key to decide where to store the value. This makes lookups, insertions, and deletions very fast on average.\n",
        "\n",
        "\n",
        "\n",
        "\n",
        "\n",
        " 9. Can lists contain different data types in Python?\n",
        "\n",
        "    -> Yes, lists can contain different data types in Python 3. A list can hold a mix of integers, strings, floats, booleans, and even other lists or objects. This is because Python lists are dynamic and do not require all elements to be of the same type.\n",
        "\n",
        "\n",
        "\n",
        "\n",
        "\n",
        "\n",
        "\n",
        " 10. Explain why strings are immutable in Python?\n",
        "\n",
        "    -> Strings are immutable in Python, which means once a string is created, it cannot be changed. If any modification is needed, a new string is created instead of changing the original one.\n",
        "\n",
        "    This immutability provides the following benefits:\n",
        "\n",
        "    * Data Safety:\n",
        "    Since strings cannot be changed, they are safe to use in situations where data should remain constant.\n",
        "\n",
        "    * Hashing Support:\n",
        "    Immutable strings can be used as keys in dictionaries and elements in sets because their hash value does not change.\n",
        "\n",
        "    * Performance Optimization:\n",
        "     Python can optimize memory usage and speed by reusing string objects, since they don't change.\n",
        "\n",
        "\n",
        "\n",
        "\n",
        "\n",
        "\n",
        "\n",
        " 11.  What advantages do dictionaries offer over lists for certain tasks?\n",
        "\n",
        "\n",
        "    -> Dictionaries offer several\n",
        "     advantages over lists for certain tasks. First, they allow fast access to data using keys instead of numerical indexes. This makes lookups quicker and more efficient. Second, dictionaries store data in key-value pairs, which helps keep the data organized and easy to understand. Unlike lists, you don’t need to remember the position of data, just the key name. Third, dictionaries are better suited for representing structured data where each item has a unique identifier.\n",
        "\n",
        "     For a example-:\n",
        "     # Using a list\n",
        "     student = [\"Alice\", 20]  # Not clear what each item means\n",
        "\n",
        "     # Using a dictionary\n",
        "     student = {\"name\": \"Alice\", \"age\": 20}  # Clear and readable\n",
        "\n",
        "\n",
        "\n",
        "\n",
        "\n",
        "\n",
        "\n",
        "  12.  Describe a scenario where using a tuple would be preferable over a list?\n",
        "\n",
        "\n",
        "     -> A scenario where using a tuple would be preferable over a list is when you need to store data that should not be modified after creation. For example, when you want to represent fixed, constant data, such as the geographical coordinates of a location or RGB color values.\n",
        "\n",
        "     Since tuples are immutable, they offer data integrity by preventing accidental modifications. Tuples are also faster than lists due to their immutability, making them more efficient when the data does not need to change.\n",
        "\n",
        "     Example Scenario-:\n",
        "\n",
        "     Imagine you are storing the RGB values for a color, where these values will not change during the program's execution:\n",
        "     rgb_color = (255, 0, 0)  \n",
        "     # Red color\n",
        "\n",
        "\n",
        "\n",
        "\n",
        "\n",
        "\n",
        "\n",
        " 13. How do sets handle duplicate values in Python?\n",
        "\n",
        "    \n",
        "     -> Sets in Python automatically remove duplicate values. When you try to add duplicate elements to a set, only one instance of the value is stored. This is because sets are designed to contain only unique elements.\n",
        "\n",
        "\n",
        "  \n",
        "    for a example-:\n",
        "    my_set = {1, 2, 3, 3, 4}\n",
        "    print(my_set)  # Output: {1, 2, 3, 4}\n",
        "\n",
        "    In this example, the duplicate 3 is removed automatically, and the set only contains the unique elements {1, 2, 3, 4}.\n",
        "\n",
        "\n",
        "\n",
        "\n",
        "\n",
        "\n",
        "\n",
        " 14. How does the “in” keyword work differently for lists and dictionaries?\n",
        "\n",
        "\n",
        "      -> The \"in\" keyword works differently for lists and dictionaries in Python because it checks for membership in different ways:\n",
        "\n",
        "      * For Lists:\n",
        "      The \"in\" keyword checks whether an element exists in the list, by looking through each item in the list.\n",
        "\n",
        "      Example:-\n",
        "      my_list = [10, 20, 30]\n",
        "      print(20 in my_list)  # Output: True\n",
        "      print(40 in my_list)  # Output: False\n",
        "      Here, it checks if 20 or 40 is an element in the list.\n",
        "\n",
        "     * For Dictionaries:\n",
        "     The \"in\" keyword checks whether a key exists in the dictionary, not the value. If the key is found, it returns True.\n",
        "\n",
        "     Example:-\n",
        "     my_dict = {\"a\": 1, \"b\": 2}\n",
        "     print(\"a\" in my_dict)  # Output: True\n",
        "     print(1 in my_dict)    # Output: False\n",
        "\n",
        "     In this case, it checks for the presence of the keys \"a\" or 1 (the second line checks for the key \"1\", not the value 1).\n",
        "\n",
        "\n",
        "\n",
        "\n",
        "\n",
        " 15. Can you modify the elements of a tuple? Explain why or why not?\n",
        "\n",
        "\n",
        "     -> No, you cannot modify the elements of a tuple because tuples are immutable in Python. Once a tuple is created, its elements cannot be changed, added, or removed. This immutability ensures that the data remains constant and protected from accidental modification.\n",
        "\n",
        "      example-:\n",
        "      my_tuple = (1, 2, 3)\n",
        "\n",
        "\n",
        "\n",
        "\n",
        "\n",
        "\n",
        "\n",
        "16.  What is a nested dictionary, and give an example of its use case?\n",
        "\n",
        "\n",
        "      -> A nested dictionary is\n",
        "      a dictionary where the value of a key is another dictionary. This allows you to store more complex data structures within a dictionary.\n",
        "\n",
        "      Use Case:\n",
        "      A nested dictionary can be used to store structured data, such as a\n",
        "      student's information (name, age, subjects) in a school database.\n",
        "      example-:\n",
        "\n",
        "      students = {\n",
        "     \"Alice\": {\"age\": 20, \"subjects\": [\"Math\", \"Science\"]},\n",
        "     \"Bob\": {\"age\": 22, \"subjects\": [\"History\", \"Math\"]}\n",
        "     }\n",
        "\n",
        "    # Accessing nested dictionary\n",
        "    print(students[\"Alice\"][\"age\"])  # Output: 20\n",
        "    print(students[\"Bob\"][\"subjects\"])  # Output: ['History', 'Math']\n",
        "\n",
        "\n",
        "  \n",
        "\n",
        "\n",
        "\n",
        "  17. Describe the time complexity of accessing elements in a dictionary?\n",
        "\n",
        "\n",
        "     -> Accessing elements in a dictionary in Python has an average time complexity of O(1), which means it takes constant time regardless of the size of the dictionary. This is possible because dictionaries use a hash table internally to map keys to values.\n",
        "\n",
        "     However, in rare cases (like hash collisions), the time complexity can degrade to O(n) in the worst case, but this is uncommon due to Python’s efficient hashing algorithm.\n",
        "\n",
        "\n",
        "\n",
        "\n",
        "\n",
        "\n",
        "  18. In what situations are lists preferred over dictionaries?\n",
        "\n",
        "\n",
        "     -> Lists are preferred over dictionaries in situations where:\n",
        "\n",
        "      * Order Matters:\n",
        "      If you need to maintain the order of elements and access them by their position (index), lists are better.\n",
        "\n",
        "      * Simple Collections:\n",
        "      When you just need to store a collection of items without labeling them with keys.\n",
        "\n",
        "      * Duplicate Values Are Allowed:\n",
        "      Lists can have duplicate values, which dictionaries do not allow for keys.\n",
        "\n",
        "     * Sequential Data Processing:\n",
        "      Lists are ideal for looping through items in a specific order.\n",
        "     \n",
        "      example-:\n",
        "      students = [\"Alice\", \"Bob\", \"Charlie\"]\n",
        "\n",
        "\n",
        "\n",
        "\n",
        "\n",
        "\n",
        "  19. Why are dictionaries considered\n",
        "      unordered, and how does that affect data retrieval?\n",
        "\n",
        "\n",
        "       -> Dictionaries were considered unordered before Python 3.7, meaning they did not preserve the order in which key-value pairs were added. This was because dictionaries used a hash table, which does not guarantee order.\n",
        "\n",
        "       Starting from Python 3.7, dictionaries do preserve insertion order, but they are still logically unordered, meaning you should not rely on the order when writing code that depends on consistent positioning.\n",
        "\n",
        "       This affects data retrieval in that:\n",
        "\n",
        "       You access values by keys, not by position.\n",
        "\n",
        "       You cannot assume the order unless you're using Python 3.7+ and explicitly care about insertion order.\n",
        "\n",
        "       example-:\n",
        "       my_dict = {\"b\": 2, \"a\": 1}\n",
        "       print(my_dict[\"a\"])  # Retrieves value using key, not position\n",
        "\n",
        "\n",
        "\n",
        "\n",
        "\n",
        "   20. Explain the difference between\n",
        "       a list and a dictionary in terms of data retrieval.\n",
        "\n",
        "       ->  In Python, both lists and dictionaries are used to store collections of data. However, they differ significantly in how data is accessed and retrieved.\n",
        "\n",
        "      * List:\n",
        "      A list stores data in an ordered sequence.\n",
        "\n",
        "      Each element in a list is accessed using its index, which starts from 0.\n",
        "\n",
        "      To retrieve a specific value, we must know its position.\n",
        "\n",
        "      Searching for a value in a list takes linear time (O(n)), as the interpreter may need to scan each item.\n",
        "\n",
        "      Example:\n",
        "      fruits = ['apple', 'banana', 'mango']\n",
        "      print(fruits[1])  # Output: banana\n",
        "\n",
        "    🔹 Dictionary:\n",
        "     A dictionary stores data in key-value pairs.\n",
        "\n",
        "     Each value is accessed using a unique key.\n",
        "\n",
        "     Retrieval is much faster — typically constant time (O(1)), because dictionaries use hash tables.\n",
        "\n"
      ],
      "metadata": {
        "id": "pVXRTsNFx3Cs"
      }
    },
    {
      "cell_type": "code",
      "source": [
        "# practical question"
      ],
      "metadata": {
        "id": "8aXoLjb5O421"
      },
      "execution_count": null,
      "outputs": []
    },
    {
      "cell_type": "code",
      "source": [
        "# 1.Write a code to create a string with your name and print it.\n",
        "\n",
        "name = \"Abhijeet Patel\"  #Replace with your own name if needed\n",
        "print(\"My name is:\", name)\n"
      ],
      "metadata": {
        "colab": {
          "base_uri": "https://localhost:8080/"
        },
        "id": "ZI_6fXGaPA1J",
        "outputId": "a102dc74-33b8-45a5-e8b0-2418de08398b"
      },
      "execution_count": null,
      "outputs": [
        {
          "output_type": "stream",
          "name": "stdout",
          "text": [
            "My name is: Abhijeet Patel\n"
          ]
        }
      ]
    },
    {
      "cell_type": "code",
      "execution_count": null,
      "metadata": {
        "colab": {
          "base_uri": "https://localhost:8080/"
        },
        "id": "OtPADf_JxNff",
        "outputId": "1619345c-32c5-4ecd-d067-0510abd53bab"
      },
      "outputs": [
        {
          "output_type": "stream",
          "name": "stdout",
          "text": [
            "Length of the string: 11\n"
          ]
        }
      ],
      "source": [
        "# 2. Write a code to find the length of the string \"Hello World\".\n",
        "\n",
        "text = \"Hello World\"\n",
        "length = len(text)\n",
        "print(\"Length of the string:\", length)\n",
        "\n",
        "\n"
      ]
    },
    {
      "cell_type": "code",
      "source": [
        "# 3. Write a code to slice the first 3 characters from the string \"Python Programming\".\n",
        "\n",
        "text = \"Python Programming\"\n",
        "sliced = text[:3]\n",
        "print(\"First 3 characters:\", sliced)\n"
      ],
      "metadata": {
        "colab": {
          "base_uri": "https://localhost:8080/"
        },
        "id": "U6vRmWuoPQEy",
        "outputId": "9cc2b9f9-ba5d-4ac7-9f93-a9b68abf5986"
      },
      "execution_count": null,
      "outputs": [
        {
          "output_type": "stream",
          "name": "stdout",
          "text": [
            "First 3 characters: Pyt\n"
          ]
        }
      ]
    },
    {
      "cell_type": "code",
      "source": [
        "# 4. Write a code to convert the string \"hello\" to uppercase.\n",
        "\n",
        "text = \"hello\"\n",
        "upper_text = text.upper()\n",
        "print(\"Uppercase string:\", upper_text)\n"
      ],
      "metadata": {
        "colab": {
          "base_uri": "https://localhost:8080/"
        },
        "id": "4qf9mRdJQGgN",
        "outputId": "a89137aa-173f-4580-d896-910c62ff6319"
      },
      "execution_count": null,
      "outputs": [
        {
          "output_type": "stream",
          "name": "stdout",
          "text": [
            "Uppercase string: HELLO\n"
          ]
        }
      ]
    },
    {
      "cell_type": "code",
      "source": [
        "# 5.  Write a code to replace the word \"apple\" with \"orange\" in the string \"I like apple\".\n",
        "\n",
        "text = \"I like apple\"\n",
        "new_text = text.replace(\"apple\", \"orange\")\n",
        "print(\"Updated string:\", new_text)\n",
        "\n"
      ],
      "metadata": {
        "colab": {
          "base_uri": "https://localhost:8080/"
        },
        "id": "CM4LQBT0QGxP",
        "outputId": "1bdab2fe-b54d-4368-b578-d9db2b70aee2"
      },
      "execution_count": null,
      "outputs": [
        {
          "output_type": "stream",
          "name": "stdout",
          "text": [
            "Updated string: I like orange\n"
          ]
        }
      ]
    },
    {
      "cell_type": "code",
      "source": [
        "# 6. Write a code to create a list with numbers 1 to 5 and print itP\n",
        "\n",
        "numbers = [1, 2, 3, 4, 5]\n",
        "print(\"List of numbers:\", numbers)\n"
      ],
      "metadata": {
        "colab": {
          "base_uri": "https://localhost:8080/"
        },
        "id": "OilP1S_lQG0O",
        "outputId": "6b8512bd-6215-4a1c-d8be-46766d71307f"
      },
      "execution_count": null,
      "outputs": [
        {
          "output_type": "stream",
          "name": "stdout",
          "text": [
            "List of numbers: [1, 2, 3, 4, 5]\n"
          ]
        }
      ]
    },
    {
      "cell_type": "code",
      "source": [
        "# 7. Write a code to append the number 10 to the list [1, 2, 3, 4].\n",
        "\n",
        "numbers = [1, 2, 3, 4]\n",
        "numbers.append(10)\n",
        "print(\"Updated list:\", numbers)\n"
      ],
      "metadata": {
        "colab": {
          "base_uri": "https://localhost:8080/"
        },
        "id": "YgcJeum0QG27",
        "outputId": "9750b51b-7820-41cf-fafc-68b32eb4cc8c"
      },
      "execution_count": null,
      "outputs": [
        {
          "output_type": "stream",
          "name": "stdout",
          "text": [
            "Updated list: [1, 2, 3, 4, 10]\n"
          ]
        }
      ]
    },
    {
      "cell_type": "code",
      "source": [
        "# 8. Write a code to remove the number 3 from the list [1, 2, 3, 4, 5].\n",
        "\n",
        "numbers = [1, 2, 3, 4, 5]\n",
        "numbers.remove(3)\n",
        "print(\"Updated list:\", numbers)\n"
      ],
      "metadata": {
        "colab": {
          "base_uri": "https://localhost:8080/"
        },
        "id": "vbCQw0wqQG5d",
        "outputId": "102deed1-db80-4594-b1c7-f9ef9d35af28"
      },
      "execution_count": null,
      "outputs": [
        {
          "output_type": "stream",
          "name": "stdout",
          "text": [
            "Updated list: [1, 2, 4, 5]\n"
          ]
        }
      ]
    },
    {
      "cell_type": "code",
      "source": [
        "# 9. Wrie a code to access the second element in the list ['a', 'b', 'c', 'd'].\n",
        "\n",
        "letters = ['a', 'b', 'c', 'd']\n",
        "second_element = letters[1]\n",
        "print(\"Second element:\", second_element)\n"
      ],
      "metadata": {
        "colab": {
          "base_uri": "https://localhost:8080/"
        },
        "id": "Cn5GFwGDQG9C",
        "outputId": "2f39451e-5fa1-4361-fd58-355368895939"
      },
      "execution_count": null,
      "outputs": [
        {
          "output_type": "stream",
          "name": "stdout",
          "text": [
            "Second element: b\n"
          ]
        }
      ]
    },
    {
      "cell_type": "code",
      "source": [
        "# 10. Write a code to reverse the list [10, 20, 30, 40, 50].\n",
        "\n",
        "numbers = [10, 20, 30, 40, 50]\n",
        "reversed_list = numbers[::-1]\n",
        "print(\"Reversed list:\", reversed_list)\n"
      ],
      "metadata": {
        "colab": {
          "base_uri": "https://localhost:8080/"
        },
        "id": "qgVJ_J3FR6Jz",
        "outputId": "314abfce-ad0a-4283-f892-0162ddc45ac9"
      },
      "execution_count": null,
      "outputs": [
        {
          "output_type": "stream",
          "name": "stdout",
          "text": [
            "Reversed list: [50, 40, 30, 20, 10]\n"
          ]
        }
      ]
    },
    {
      "cell_type": "code",
      "source": [
        "# 11.  Write a code to create a tuple with the elements 100, 200, 300 and print it.\n",
        "\n",
        "# Creating the tuple\n",
        "my_tuple = (100, 200, 300)\n",
        "\n",
        "# Printing the tuple\n",
        "print(my_tuple)\n"
      ],
      "metadata": {
        "colab": {
          "base_uri": "https://localhost:8080/"
        },
        "id": "IpmsjKPDnENC",
        "outputId": "f8e44bd0-18eb-4d9f-d6a9-598db1c57792"
      },
      "execution_count": null,
      "outputs": [
        {
          "output_type": "stream",
          "name": "stdout",
          "text": [
            "(100, 200, 300)\n"
          ]
        }
      ]
    },
    {
      "cell_type": "code",
      "source": [
        "# 12. Write a code to access the second-to-last element of the tuple ('red', 'green', 'blue', 'yellow').\n",
        "\n",
        "colors = ('red', 'green', 'blue', 'yellow')\n",
        "second_last = colors[-2]\n",
        "print(second_last)\n"
      ],
      "metadata": {
        "colab": {
          "base_uri": "https://localhost:8080/"
        },
        "id": "5CdB7zKHnlNr",
        "outputId": "3f5b0796-f89f-4cce-b5a1-546325dd6a1c"
      },
      "execution_count": null,
      "outputs": [
        {
          "output_type": "stream",
          "name": "stdout",
          "text": [
            "blue\n"
          ]
        }
      ]
    },
    {
      "cell_type": "code",
      "source": [
        "# 13. Write a code to find the minimum number in the tuple (10, 20, 5, 15).\n",
        "\n",
        "# Define the tuple\n",
        "numbers = (10, 20, 5, 15)\n",
        "\n",
        "# Find the minimum number\n",
        "min_value = min(numbers)\n",
        "print(min_value)\n"
      ],
      "metadata": {
        "colab": {
          "base_uri": "https://localhost:8080/"
        },
        "id": "Agga3csrnlbG",
        "outputId": "5c83aad8-796e-4395-aff6-59342d758d92"
      },
      "execution_count": null,
      "outputs": [
        {
          "output_type": "stream",
          "name": "stdout",
          "text": [
            "5\n"
          ]
        }
      ]
    },
    {
      "cell_type": "code",
      "source": [
        "# 14. Write a code to find the index of the element \"cat\" in the tuple ('dog', 'cat', 'rabbit').\n",
        "\n",
        "# Define the tuple\n",
        "animals = ('dog', 'cat', 'rabbit')\n",
        "\n",
        "# Find the index of \"cat\"\n",
        "index_of_cat = animals.index('cat')\n",
        "\n",
        "# Print the result\n",
        "print(index_of_cat)\n"
      ],
      "metadata": {
        "colab": {
          "base_uri": "https://localhost:8080/"
        },
        "id": "LB2L67Kgnldo",
        "outputId": "53662574-cb27-40ac-95bd-51f881d6ea02"
      },
      "execution_count": null,
      "outputs": [
        {
          "output_type": "stream",
          "name": "stdout",
          "text": [
            "1\n"
          ]
        }
      ]
    },
    {
      "cell_type": "code",
      "source": [
        "# 15. Write a code to create a tuple containing three different fruits and check if \"kiwi\" is in it.\n",
        "\n",
        "\n",
        "fruits = ('apple', 'banana', 'orange')\n",
        "\n",
        "# Check if \"kiwi\" is in the tuple\n",
        "if 'kiwi' in fruits:\n",
        "    print(\"Kiwi is in the tuple.\")\n",
        "else:\n",
        "    print(\"Kiwi is not in the tuple.\")\n"
      ],
      "metadata": {
        "colab": {
          "base_uri": "https://localhost:8080/"
        },
        "id": "Y9gSAVk-nlgd",
        "outputId": "2a6cc4c7-1140-4260-e0da-5e7f63dd90f2"
      },
      "execution_count": null,
      "outputs": [
        {
          "output_type": "stream",
          "name": "stdout",
          "text": [
            "Kiwi is not in the tuple.\n"
          ]
        }
      ]
    },
    {
      "cell_type": "code",
      "source": [
        "# 16. Write a code to create a set with the elements 'a', 'b', 'c' and print it.\n",
        "\n",
        "# Create the set\n",
        "my_set = {'a', 'b', 'c'}\n",
        "\n",
        "print(my_set)\n",
        "\n"
      ],
      "metadata": {
        "colab": {
          "base_uri": "https://localhost:8080/"
        },
        "id": "vIqvJVCJnlj4",
        "outputId": "84e65bb3-8efa-4da8-9441-790f9e37ec4f"
      },
      "execution_count": null,
      "outputs": [
        {
          "output_type": "stream",
          "name": "stdout",
          "text": [
            "{'a', 'b', 'c'}\n"
          ]
        }
      ]
    },
    {
      "cell_type": "code",
      "source": [
        "# 17. Write a code to clear all elements from the set {1, 2, 3, 4, 5}.\n",
        "\n",
        "# Define the set\n",
        "my_set = {1, 2, 3, 4, 5}\n",
        "\n",
        "# Clear all elements\n",
        "my_set.clear()\n",
        "print(my_set)\n"
      ],
      "metadata": {
        "colab": {
          "base_uri": "https://localhost:8080/"
        },
        "id": "CVM3Sq8LpnLL",
        "outputId": "faed62c3-e7bf-4ece-c42d-dae783188fcb"
      },
      "execution_count": null,
      "outputs": [
        {
          "output_type": "stream",
          "name": "stdout",
          "text": [
            "set()\n"
          ]
        }
      ]
    },
    {
      "cell_type": "code",
      "source": [
        "# 18. Write a code to remove the element 4 from the set {1, 2, 3, 4}.\n",
        "\n",
        "\n",
        "my_set = {1, 2, 3, 4}\n",
        "\n",
        "# Remove the element 4\n",
        "my_set.remove(4)\n",
        "print(my_set)\n"
      ],
      "metadata": {
        "colab": {
          "base_uri": "https://localhost:8080/"
        },
        "id": "pxRTHzr6pnbP",
        "outputId": "50a6767d-1ea4-4fee-edc4-e5967900ce6d"
      },
      "execution_count": null,
      "outputs": [
        {
          "output_type": "stream",
          "name": "stdout",
          "text": [
            "{1, 2, 3}\n"
          ]
        }
      ]
    },
    {
      "cell_type": "code",
      "source": [
        "# 19. Write a code to find the union of two sets {1, 2, 3} and {3, 4, 5}.\n",
        "\n",
        "set1 = {1, 2, 3}\n",
        "set2 = {3, 4, 5}\n",
        "\n",
        "# Find the union\n",
        "union_set = set1.union(set2)\n",
        "\n",
        "# Print the result\n",
        "print(union_set)\n",
        "\n"
      ],
      "metadata": {
        "colab": {
          "base_uri": "https://localhost:8080/"
        },
        "id": "TA_RtEZ-pnd-",
        "outputId": "3d105849-64bc-4ae8-ebb9-ec799e24c82a"
      },
      "execution_count": null,
      "outputs": [
        {
          "output_type": "stream",
          "name": "stdout",
          "text": [
            "{1, 2, 3, 4, 5}\n"
          ]
        }
      ]
    },
    {
      "cell_type": "code",
      "source": [
        "# 20. Write a code to find the intersection of two sets {1, 2, 3} and {2, 3, 4}.\n",
        "\n",
        "\n",
        "set1 = {1, 2, 3}\n",
        "set2 = {2, 3, 4}\n",
        "\n",
        "# Find the intersection\n",
        "intersection_set = set1.intersection(set2)\n",
        "\n",
        "# Print the result\n",
        "print(intersection_set)\n",
        "\n"
      ],
      "metadata": {
        "colab": {
          "base_uri": "https://localhost:8080/"
        },
        "id": "Ltko-fD7pngv",
        "outputId": "8ff96861-a4c8-4263-8737-f812a29f25e7"
      },
      "execution_count": null,
      "outputs": [
        {
          "output_type": "stream",
          "name": "stdout",
          "text": [
            "{2, 3}\n"
          ]
        }
      ]
    },
    {
      "cell_type": "code",
      "source": [
        "# 21. Write a code to create a dictionary with the keys \"name\", \"age\", and \"city\", and print it.\n",
        "\n",
        "\n",
        "my_dict = {\n",
        "    \"name\": \"John\",\n",
        "    \"age\": 25,\n",
        "    \"city\": \"New York\",\n",
        "\n",
        "}\n",
        "\n",
        "print(my_dict)\n"
      ],
      "metadata": {
        "colab": {
          "base_uri": "https://localhost:8080/"
        },
        "id": "_2mbUye2pnjK",
        "outputId": "a887a9f8-aa7d-4f1c-c536-30f229df1f70"
      },
      "execution_count": null,
      "outputs": [
        {
          "output_type": "stream",
          "name": "stdout",
          "text": [
            "{'name': 'John', 'age': 25, 'city': 'New York'}\n"
          ]
        }
      ]
    },
    {
      "cell_type": "code",
      "source": [
        "# 22. Write a code to add a new key-value pair \"country\": \"USA\" to the dictionary {'name': 'John', 'age': 25}.\n",
        "\n",
        "# Define the dictionary\n",
        "my_dict = {'name': 'John', 'age': 25}\n",
        "\n",
        "# Add a new key-value pair\n",
        "my_dict[\"country\"] = \"USA\"\n",
        "\n",
        "# Print the updated dictionary\n",
        "print(my_dict)\n"
      ],
      "metadata": {
        "colab": {
          "base_uri": "https://localhost:8080/"
        },
        "id": "ZLd8zkVerEgx",
        "outputId": "6c5d2e98-537f-415d-8909-68b4999d31ef"
      },
      "execution_count": null,
      "outputs": [
        {
          "output_type": "stream",
          "name": "stdout",
          "text": [
            "{'name': 'John', 'age': 25, 'country': 'USA'}\n"
          ]
        }
      ]
    },
    {
      "cell_type": "code",
      "source": [
        "# 23. Write a code to access the value associated with the key \"name\" in the dictionary {'name': 'Alice', 'age': 30}.\n",
        "\n",
        "\n",
        "my_dict = {'name': 'Alice', 'age': 30}\n",
        "\n",
        "# Access the value associated with the key \"name\"\n",
        "name_value = my_dict['name']\n",
        "print(name_value)\n"
      ],
      "metadata": {
        "colab": {
          "base_uri": "https://localhost:8080/"
        },
        "id": "gzNpKhaQrEsX",
        "outputId": "f35a2af3-2ab2-4fd1-d899-d5085ef213fa"
      },
      "execution_count": null,
      "outputs": [
        {
          "output_type": "stream",
          "name": "stdout",
          "text": [
            "Alice\n"
          ]
        }
      ]
    },
    {
      "cell_type": "code",
      "source": [
        "# 24. Write a code to remove the key \"age\" from the dictionary {'name': 'Bob', 'age': 22, 'city': 'New York'}.\n",
        "\n",
        "# Define the dictionary\n",
        "my_dict = {'name': 'Bob', 'age': 22, 'city': 'New York'}\n",
        "\n",
        "# Remove the key \"age\"\n",
        "del my_dict['age']\n",
        "\n",
        "# Print the updated dictionary\n",
        "print(my_dict)\n",
        "\n"
      ],
      "metadata": {
        "colab": {
          "base_uri": "https://localhost:8080/"
        },
        "id": "Q3jbZPm4rEx7",
        "outputId": "83b36add-a261-4869-bfca-479798034259"
      },
      "execution_count": null,
      "outputs": [
        {
          "output_type": "stream",
          "name": "stdout",
          "text": [
            "{'name': 'Bob', 'city': 'New York'}\n"
          ]
        }
      ]
    },
    {
      "cell_type": "code",
      "source": [
        "# 25. Write a code to check if the key \"city\" exists in the dictionary {'name': 'Alice', 'city': 'Paris'}.\n",
        "\n",
        "# Define the dictionary\n",
        "my_dict = {'name': 'Alice', 'city': 'Paris'}\n",
        "\n",
        "# Check if the key \"city\" exists\n",
        "if 'city' in my_dict:\n",
        "    print(\"The key 'city' exists in the dictionary.\")\n",
        "else:\n",
        "    print(\"The key 'city' does not exist in the dictionary.\")\n",
        "\n"
      ],
      "metadata": {
        "colab": {
          "base_uri": "https://localhost:8080/"
        },
        "id": "Jk_tUzj3pnmu",
        "outputId": "c7a54f86-bfb0-4054-a0a2-b4c39ccd439e"
      },
      "execution_count": null,
      "outputs": [
        {
          "output_type": "stream",
          "name": "stdout",
          "text": [
            "The key 'city' exists in the dictionary.\n"
          ]
        }
      ]
    },
    {
      "cell_type": "code",
      "source": [
        "# 26. Write a code to create a list, a tuple, and a dictionary, and print them all.\n",
        "\n",
        "\n",
        "# Create the list\n",
        "my_list = [1, 2, 3, 4, 5]\n",
        "\n",
        "# Create the tuple\n",
        "my_tuple = (10, 20, 30, 40, 50)\n",
        "\n",
        "# Create the dictionary\n",
        "my_dict = {'name': 'Alice', 'age': 25, 'city': 'New York'}\n",
        "\n",
        "# Print the list, tuple, and dictionary\n",
        "print(\"List:\", my_list)\n",
        "print(\"Tuple:\", my_tuple)\n",
        "print(\"Dictionary:\", my_dict)\n",
        "\n"
      ],
      "metadata": {
        "colab": {
          "base_uri": "https://localhost:8080/"
        },
        "id": "SXNY9QZvsIO-",
        "outputId": "b62508e4-1db4-4d94-86ca-7bed63951540"
      },
      "execution_count": null,
      "outputs": [
        {
          "output_type": "stream",
          "name": "stdout",
          "text": [
            "List: [1, 2, 3, 4, 5]\n",
            "Tuple: (10, 20, 30, 40, 50)\n",
            "Dictionary: {'name': 'Alice', 'age': 25, 'city': 'New York'}\n"
          ]
        }
      ]
    },
    {
      "cell_type": "code",
      "source": [
        "# 27. Write a code to create a list of 5 random numbers between 1 and 100, sort it in ascending order, and print theresult.(replaced).\n",
        "\n",
        "\n",
        "import random\n",
        "\n",
        "random_numbers = [random.randint(1, 100) for _ in range(5)]\n",
        "random_numbers.sort()\n",
        "\n",
        "print(random_numbers)\n",
        "\n",
        "\n"
      ],
      "metadata": {
        "colab": {
          "base_uri": "https://localhost:8080/"
        },
        "id": "30-ajIBJsIc8",
        "outputId": "2be2192a-780f-496b-fd68-3eebff90ea54"
      },
      "execution_count": null,
      "outputs": [
        {
          "output_type": "stream",
          "name": "stdout",
          "text": [
            "[29, 42, 49, 51, 63]\n"
          ]
        }
      ]
    },
    {
      "cell_type": "code",
      "source": [
        "# 28. Write a code to create a list with strings and print the element at the third index.\n",
        "\n",
        "\n",
        "my_list = [\"apple\", \"banana\", \"cherry\", \"date\", \"elderberry\"]\n",
        "print(my_list[3])\n",
        "\n"
      ],
      "metadata": {
        "colab": {
          "base_uri": "https://localhost:8080/"
        },
        "id": "h8n4vUoCsIiL",
        "outputId": "53e88280-6a8a-4190-8189-d2ffea60aeea"
      },
      "execution_count": null,
      "outputs": [
        {
          "output_type": "stream",
          "name": "stdout",
          "text": [
            "date\n"
          ]
        }
      ]
    },
    {
      "cell_type": "code",
      "source": [
        "# 29. Write a code to combine two dictionaries into one and print the result.\n",
        "\n",
        "# Define two dictionaries\n",
        "dict1 = {'name': 'Alice', 'age': 25}\n",
        "dict2 = {'city': 'New York', 'job': 'Engineer'}\n",
        "\n",
        "# Combine the dictionaries\n",
        "combined_dict = {**dict1, **dict2}\n",
        "print(combined_dict)\n"
      ],
      "metadata": {
        "colab": {
          "base_uri": "https://localhost:8080/"
        },
        "id": "yJsZXkaTtpSm",
        "outputId": "7ec03030-8f43-409f-a39b-6fc9932bbb3c"
      },
      "execution_count": null,
      "outputs": [
        {
          "output_type": "stream",
          "name": "stdout",
          "text": [
            "{'name': 'Alice', 'age': 25, 'city': 'New York', 'job': 'Engineer'}\n"
          ]
        }
      ]
    },
    {
      "cell_type": "code",
      "source": [
        "# 30. Write a code to convert a list of strings into a set.\n",
        "\n",
        "# Define a list of strings\n",
        "string_list = [\"apple\", \"banana\", \"cherry\", \"apple\", \"banana\"]\n",
        "\n",
        "# Convert the list to a set\n",
        "string_set = set(string_list)\n",
        "\n",
        "# Print the set\n",
        "print(string_set)\n"
      ],
      "metadata": {
        "colab": {
          "base_uri": "https://localhost:8080/"
        },
        "id": "7DIxrXyMtpey",
        "outputId": "a9b327d2-df39-4957-a4cb-5f092bd35866"
      },
      "execution_count": null,
      "outputs": [
        {
          "output_type": "stream",
          "name": "stdout",
          "text": [
            "{'cherry', 'banana', 'apple'}\n"
          ]
        }
      ]
    }
  ]
}